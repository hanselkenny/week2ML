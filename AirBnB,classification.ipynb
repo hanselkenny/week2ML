{
 "cells": [
  {
   "cell_type": "markdown",
   "execution_count": null,
   "metadata": {},
   "outputs": [],
   "source": [
    "# Classification - KNN"
   ]
  },
  {
   "cell_type": "code",
   "execution_count": 1,
   "metadata": {},
   "outputs": [],
   "source": [
    "import pandas as pd\n",
    "import numpy as np\n",
    "from sklearn.neighbors import KNeighborsClassifier\n",
    "from sklearn.metrics import accuracy_score, mean_squared_error, mean_absolute_error\n",
    "from sklearn import preprocessing\n",
    "from sklearn.model_selection import train_test_split\n"
   ]
  },
  {
   "cell_type": "code",
   "execution_count": 2,
   "metadata": {},
   "outputs": [
    {
     "name": "stdout",
     "output_type": "stream",
     "text": "id int64\nname object\nhost_id int64\nhost_name object\nneighbourhood_group object\nneighbourhood object\nlatitude float64\nlongitude float64\nroom_type object\nprice int64\nminimum_nights int64\nnumber_of_reviews int64\nlast_review object\nreviews_per_month float64\ncalculated_host_listings_count int64\navailability_365 int64\nid                                  int64\nname                               object\nhost_id                             int64\nhost_name                          object\nneighbourhood_group                object\nneighbourhood                      object\nlatitude                          float64\nlongitude                         float64\nroom_type                          object\nprice                               int64\nminimum_nights                      int64\nnumber_of_reviews                   int64\nlast_review                        object\nreviews_per_month                 float64\ncalculated_host_listings_count      int64\navailability_365                    int64\ndtype: object\n"
    }
   ],
   "source": [
    "dataAirBnB = pd.read_csv(\"listings.csv\")\n",
    "\n",
    "for i in dataAirBnB:\n",
    "    print(i,dataAirBnB[i].dtypes)\n",
    "    if dataAirBnB[i].isna().values.any() and dataAirBnB[i].dtypes != object:\n",
    "        dataAirBnB[i]=dataAirBnB[i].fillna(dataAirBnB[i].mean())\n",
    "\n",
    "\n",
    "train, test = train_test_split(dataAirBnB, test_size=0.1)\n",
    "\n",
    "print(train.head().dtypes)"
   ]
  },
  {
   "cell_type": "code",
   "execution_count": 3,
   "metadata": {},
   "outputs": [
    {
     "name": "stdout",
     "output_type": "stream",
     "text": "[0 0 0 0 0 4 0 0 0 0 0 0 0 0 0 0 0 0 0 0 0 0 0 0 0 1 0 4 0 3 0 0 0 0 0 0 0\n 0 0 0 0 0 4 0 0 4 0 1 0 0 1 0 1 0 0 1 0 0 0 0 3 0 0 3 0 1 0 0 4 1 3 2 0 4\n 0 4 0 0 0 0 0 0 0 4 0 0 0 0 0 0 3 4 0 0 0 1 0 0 0 0 0 0 0 0 4 0 0 0 0 0 0\n 0 0 0 0 0 3 0 1 0 0 0 0 3 0 0 0 2 3 3 0 0 0 1 1 0 0 0 0 0 0 0 0 0 1 0 0 0\n 0 3 0 1 0 0 0 0 0 0 0 0 0 0 0 4 0 0 0 3 0 0 0 0 0 0 0 0 0 2 0 4 0 0 1 0 1\n 0 1 0 0 0 0 0 0 1 1 0 0 0 0 0 0 0 0 0 0 0 4 0 0 3 0 0 0 3 1 0 0 1 0 0 0 0\n 0 0 0 4 1 0 0 0 3 0 4 0 0 0 0 0 0 0 3 0 0 0 0 0 0 1 0 0 0 0 0 0 0 0 0 0 0\n 0 0 3 1 0 0 0 0 0 0 0 0 0 0 0 0 0 0 0 0 0 0 1 0 0 4 0 1 0 0 0 2 0 0 0 0 4\n 0 1 0 0 0 0 0 0 0 0 0 0 0 0 0 0 3 0 0 0 0 0 0 0 0 0 0 0 0 3 0 0 0 0 0 0 2\n 0 0 0 0 3 0 0 0 0 0 0 0 3 2 2 0 0 0 0 0 0 0 0 0 0 0 0 0 3 0 0 0 0 0 0 0 2\n 2 0 4 0 0 4 0 0 0 0 0 0 0 0 0 0 1 0 0 0 0 0 0 0 0 0 1 4 0 0 0 0 1 0 0 0 1\n 0 1 0 1 0 0 0 4 0 0 0 0 0 0 1 0 0 0 0 0 0 0 0 0 0 0 0 0 0 4 0 0 4 0 0 4 0\n 0 0 0 0 4 0 1 0 0 0 0 0 0 4 0 0 0 0 0 0 0 0 0 0 4 0 0 0 0 0 0 4 0 0 0 0 0\n 0 0 0 1 0 0 0 0 0 1 0 0 3 0 0 0 0 0 0 0 0 0 1 0 3 0 0 0 0 1 2 0 0 0 3 0 0\n 0 1 0 0 0 0 0 0 0 0 0 2 3 0 0 4 0 0 0 0 4 0 0 1 0 0 0 4 0 0 0 0 0 0 0 0 0\n 1 0 0 0 0 0 4 0 4 0 0 0 0 0 2 0 0 0 0 4 0 0 0 0 0 2 0 0 3 0 0 0 0 0 0 0 0\n 0 0 0 0 0 0 0 0 4 1 0 0 0 0 0 4 0 0 0 0 0 0 0 0 0 3 4 0 1 0 0 0 0 0 0 0 0\n 0 0 0 0 0 3 2 0 0 0 1 4 0 0 0 0 4 0 0 0 3 0 0 0 0 4 0 0 0 0 0 0 3 2 4 0 2\n 0 0 0 1 0 4 0 0 2 0 0 0 0 0 0 0 0 0 0 0 0 1 0 0 0 0 0 0 0 0 0 0 0 0 0 0 0\n 3 0 0 0 0 0 0 0 0 0 0 0 0 0 0 0 0 0 0 0 4 0 0 0 0 3 0 0 0 0 0 0 0 3 4 0 1\n 0 0 0 0 3 1 0 0 0 0 0 1 0 0 0 0 0 0 4 0 4 0 0 1 1 0 0 0 0 0 0 0 0 4 1 0 0\n 0 4 0 0 0 0 0 0 0 0 0 0 0 0]\n"
    }
   ],
   "source": [
    "le = preprocessing.LabelEncoder()\n",
    "target_encoded=le.fit_transform(train[\"neighbourhood_group\"])\n",
    "\n",
    "actual_encoded = le.fit_transform(test[\"neighbourhood_group\"])\n",
    "print(actual_encoded)"
   ]
  },
  {
   "cell_type": "code",
   "execution_count": 4,
   "metadata": {},
   "outputs": [],
   "source": [
    "KNN = KNeighborsClassifier(n_neighbors = 9).fit(train[[\"latitude\", \"longitude\"]],target_encoded)"
   ]
  },
  {
   "cell_type": "code",
   "execution_count": 5,
   "metadata": {},
   "outputs": [
    {
     "name": "stdout",
     "output_type": "stream",
     "text": "[4 4]\n ACC : 0.99\n MAE : 0.01\n MSE : 0.03\n"
    }
   ],
   "source": [
    "newClassification = KNN.predict([[1.2,103],[1.3,103]])\n",
    "print(newClassification)\n",
    "\n",
    "classification = KNN.predict(test[[\"latitude\", \"longitude\"]])\n",
    "accuracy = accuracy_score(actual_encoded, classification)\n",
    "MAE = mean_absolute_error(actual_encoded, classification)\n",
    "MSE = mean_squared_error(actual_encoded, classification)\n",
    "\n",
    "print(\" ACC : %.2f\" % accuracy)\n",
    "print(\" MAE : %.2f\" % MAE)\n",
    "print(\" MSE : %.2f\" % MSE)"
   ]
  },
  {
   "cell_type": "code",
   "execution_count": 11,
   "metadata": {},
   "outputs": [
    {
     "name": "stdout",
     "output_type": "stream",
     "text": "Best  ACC : 0.99 , with k =  3\n"
    }
   ],
   "source": [
    "Ks = 10\n",
    "accuracy = np.zeros((Ks-1))\n",
    "ConfustionMx = [];\n",
    "for n in range(3, Ks, 2):\n",
    "    KNN = KNeighborsClassifier(n_neighbors = n).fit(train[[\"latitude\", \"longitude\"]], target_encoded)  \n",
    "    classification = KNN.predict(test[[\"latitude\", \"longitude\"]])\n",
    "    accuracy[n - 1] = accuracy_score(actual_encoded, classification)\n",
    "    \n",
    "print(\"Best  ACC : %.2f\" % accuracy.max(), \", with k = \", accuracy.argmax() + 1)\n"
   ]
  },
  {
   "cell_type": "code",
   "execution_count": null,
   "metadata": {},
   "outputs": [],
   "source": []
  }
 ],
 "metadata": {
  "kernelspec": {
   "display_name": "Python 3",
   "language": "python",
   "name": "python3"
  },
  "language_info": {
   "codemirror_mode": {
    "name": "ipython",
    "version": 3
   },
   "file_extension": ".py",
   "mimetype": "text/x-python",
   "name": "python",
   "nbconvert_exporter": "python",
   "pygments_lexer": "ipython3",
   "version": "3.7.6-final"
  }
 },
 "nbformat": 4,
 "nbformat_minor": 2
}